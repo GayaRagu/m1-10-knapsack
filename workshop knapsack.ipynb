{
 "cells": [
  {
   "cell_type": "markdown",
   "metadata": {},
   "source": [
    "## Knapsack Problem\n",
    "\n",
    "The *knapsack problem*:  given a set of integers $S = \\{s_1, s_2, \\ldots, s_n\\}$ and a target number $T$, find a subset (i.e., knapsack) of $S$ which adds up exactly to $T$.  \n",
    "\n",
    "For example, if $S = \\{1,2,5, 9, 10\\}$, there is a subset that adds up to $T = 22$, but not to $T = 23$.  Complete the following tasks related to this problem."
   ]
  },
  {
   "cell_type": "markdown",
   "metadata": {},
   "source": [
    "# 1. \n",
    "\n",
    "Find a subset of $S = \\{1,2,5, 9, 10\\}$ with sum $T = 22$.  Explain the process (algorithm) you used mentally to find the subset.  Then apply the same process in an attempt to find a subset with sum $T = 23$.  \n",
    "\n",
    "How do you know there is no such subset?"
   ]
  },
  {
   "cell_type": "code",
   "execution_count": 1,
   "metadata": {},
   "outputs": [],
   "source": [
    "# Explain the process (algorithm) you used mentally to find the subset\n",
    "    # from the greatest value, add the next greatest value. If the sum exceeds the target, skip and go to next until Target is met. \n",
    "    # if target is not met then restart and the second greatest value and continue same logic\n",
    "    # if target is not met for len(S)-1 then stop, conclude False -- not subset found\n",
    "    \n",
    "    # 10 + 9, skip 5 (10 + 9 + 5 > 22), 10 + 9 + 2 + 1 == 22, target met, TRUE\n",
    "    \n",
    "    # 10 + 9, skip 5 (10 + 9+ 5 > 23), 10 + 9 + 2 + 1 != 23, target not met, FALSE\n",
    "    # alternatively, the sum of S == 27, 27-23 == 4, there is no addition in the S that can amount to 4 going from the smallest value\n",
    "        # 1 + 2 < 4, 1 + 2 + 5 > 4\n"
   ]
  },
  {
   "cell_type": "markdown",
   "metadata": {},
   "source": [
    "# 2.\n",
    "\n",
    "Consider the following possible algorithm for the knapsack problem, written in psuedocode: \n",
    "```python\n",
    "knapsack(S[], T):\n",
    "    K = empty\n",
    "    for each i < size(S)\n",
    "        if sum(K) + S[i] <= T, put S[i] into K\n",
    "    if sum(K) = T, return K, else return False.\n",
    "```\n",
    "**a)** Describe what this algorithm does in English.  \n",
    "\n",
    "**b)** Implement this algorithm in Python and run it on the $S$ and $T$ above.\n",
    "\n",
    "\n",
    "**c)** Prove that this algorithm is NOT correct.  That is, find a counterexample: a set $S$ and number $T$ for which there is a solution, but not one that the algorithm finds.\n",
    "\n",
    "**d)** Verify that this particular $S$ and $T$ does not give the right output when entered to your Python program."
   ]
  },
  {
   "cell_type": "code",
   "execution_count": 2,
   "metadata": {},
   "outputs": [],
   "source": [
    "# a. Describe what this algorithm does in English:\n",
    "    # for every element in S, add to knapsack (K) \n",
    "    # if the current weight of the knapsack plus the weight of the element,\n",
    "    # does not exceed the capacity of the knapsack\n",
    "    # if adding the element exceeds the capacity of the knapsack,\n",
    "    # then return the list of current elements in the knapsack\n",
    "    # else if there is no element that meets the requirements of the knapsack,\n",
    "    # return false\n",
    "\n",
    "# b. Implement this algorithm in Python and run it on the  𝑆  and  𝑇  above.\n",
    "def knapsack(S, T):\n",
    "    K = []\n",
    "    for i in range(len(S)):\n",
    "        if (sum(K) + S[i] <= T):\n",
    "            K.append(S[i])\n",
    "        if (sum(K) == T):\n",
    "            return K\n",
    "        else:\n",
    "            return False"
   ]
  },
  {
   "cell_type": "code",
   "execution_count": 3,
   "metadata": {},
   "outputs": [
    {
     "data": {
      "text/plain": [
       "False"
      ]
     },
     "execution_count": 3,
     "metadata": {},
     "output_type": "execute_result"
    }
   ],
   "source": [
    "# c. Prove that this algorithm is NOT correct. \n",
    "    # That is, find a counterexample: a set  𝑆  and number  𝑇  for which there is a solution, \n",
    "    # but not one that the algorithm finds.\n",
    "\n",
    "    # while 2 + 9 is equal to T = 11, the algorithm still returns False\n",
    "\n",
    "knapsack([1,2,5,9,10],11)  "
   ]
  },
  {
   "cell_type": "markdown",
   "metadata": {},
   "source": [
    "# 3. \n",
    "\n",
    "Another try: What if you put the elements in the knapsack from largest to smallest?  Check that this too is not a correct algorithm."
   ]
  },
  {
   "cell_type": "code",
   "execution_count": 4,
   "metadata": {},
   "outputs": [
    {
     "data": {
      "text/plain": [
       "False"
      ]
     },
     "execution_count": 4,
     "metadata": {},
     "output_type": "execute_result"
    }
   ],
   "source": [
    "# the elements 9 + 5 do satisfy T = 14, howeber this algorith still returns False\n",
    "knapsack([10,9,5,2,1],14)"
   ]
  },
  {
   "cell_type": "markdown",
   "metadata": {},
   "source": [
    "# 4.\n",
    "\n",
    "Describe a correct algorithm for the knapsack problem (that we haven't seen in class), both in English and in pseudocode.  Then implement the algorithm in Python.  Explain how you know your algorithm is correct (even if it might not be efficient)."
   ]
  },
  {
   "cell_type": "code",
   "execution_count": 5,
   "metadata": {},
   "outputs": [
    {
     "name": "stdout",
     "output_type": "stream",
     "text": [
      "220\n"
     ]
    }
   ],
   "source": [
    "# ref: https://www.coursera.org/lecture/discrete-optimization/knapsack-4-dynamic-programming-wFFdN\n",
    "# Knapsack problem using Dynamic Programming\n",
    "def knapSack(W, wt, val, n): \n",
    "    K = [[0 for x in range(W + 1)] for x in range(n + 1)] \n",
    "    #print(K)\n",
    "    # Build table K[][] in bottom up manner \n",
    "    for i in range(n + 1): \n",
    "        for w in range(W + 1): \n",
    "            if i == 0 or w == 0: \n",
    "                K[i][w] = 0\n",
    "            elif wt[i-1] <= w: \n",
    "                K[i][w] = max(val[i-1] + K[i-1][w-wt[i-1]],  K[i-1][w]) \n",
    "            else: \n",
    "                K[i][w] = K[i-1][w] \n",
    "    return K[n][W] \n",
    "  \n",
    "# Driver program to test above function\n",
    "\n",
    "val = [60, 100, 120] \n",
    "wt = [10, 20, 30] \n",
    "W = 50\n",
    "n = len(val) \n",
    "print(knapSack(W, wt, val, n))"
   ]
  },
  {
   "cell_type": "markdown",
   "metadata": {},
   "source": [
    "# 5. Generating correct change\n",
    "\n",
    "Now, we will be making change using the fewest coins. \n",
    "\n",
    "Suppose you are a programmer for a vending machine manufacturer. Your company wants to streamline effort by giving out the fewest possible coins in change for each transaction. Suppose a customer puts in a dollar bill and purchases an item for 37 cents. What is the smallest number of coins you can use to make change? The answer is six coins: two quarters, one dime, and three pennies. \n",
    "\n",
    "How did we arrive at the answer of six coins? We start with the largest coin in our arsenal (a quarter) and use as many of those as possible, then we go to the next lowest coin value and use as many of those as possible. This is the greedy algorithm for change-making.\n",
    "\n",
    "**Question:** Write the greedy algorithm for change making.\n",
    "\n",
    "The input is the amount of change to generate (in pennies) and a list of coin sizes (in pennies)\n",
    "\n",
    "The output is the minimum number of coins to gener\n",
    "\n",
    "```\n",
    "# buys with 1 dollar for 37 pennies\n",
    "# Second argument says we can give quarters, dimes, nickels and pennies\n",
    "make_change(100 - 37, [25, 10, 5, 1])\n",
    "\n",
    "# 2 quarters, one dime, and three pennies\n",
    "output --> 6 # Output would be equivalent to the choices [2, 1, 0, 3]\n",
    "```"
   ]
  },
  {
   "cell_type": "code",
   "execution_count": 6,
   "metadata": {},
   "outputs": [],
   "source": [
    "def make_change(amt, change):\n",
    "    change=[25,10,5,1]\n",
    "    res = []\n",
    "    rem = amt\n",
    "    for i in change:\n",
    "        res.append(rem // i)\n",
    "        rem = rem % i\n",
    "    return sum(res)"
   ]
  },
  {
   "cell_type": "code",
   "execution_count": 7,
   "metadata": {},
   "outputs": [
    {
     "data": {
      "text/plain": [
       "6"
      ]
     },
     "execution_count": 7,
     "metadata": {},
     "output_type": "execute_result"
    }
   ],
   "source": [
    "make_change(63, [25, 10, 5, 1])"
   ]
  },
  {
   "cell_type": "markdown",
   "metadata": {},
   "source": [
    "# 6 Recursive change\n",
    "\n",
    "Write the greedy change making algorithm using recursion"
   ]
  },
  {
   "cell_type": "code",
   "execution_count": 8,
   "metadata": {},
   "outputs": [],
   "source": [
    "# ref: https://stackoverflow.com/questions/12520263/recursive-change-making-algorithm\n",
    "\n",
    "def make_change_recursive(amt, change):\n",
    "    def min_coins(rem, i):\n",
    "        if rem == 0:\n",
    "            return 0\n",
    "        elif i == -1 or rem < 0:\n",
    "            return float('inf')\n",
    "        else:\n",
    "            return min(min_coins(rem, i-1), 1 + min_coins(rem-change[i],i))\n",
    "    return min_coins(amt, len(change)-1)"
   ]
  },
  {
   "cell_type": "code",
   "execution_count": 9,
   "metadata": {},
   "outputs": [
    {
     "data": {
      "text/plain": [
       "6"
      ]
     },
     "execution_count": 9,
     "metadata": {},
     "output_type": "execute_result"
    }
   ],
   "source": [
    "make_change_recursive(63, [25, 10, 5, 1])"
   ]
  },
  {
   "cell_type": "markdown",
   "metadata": {},
   "source": [
    "# 7 Dynamic Programming Change making\n",
    "\n",
    "Write a solution to the change making problem using dynamic programming.\n",
    "\n",
    "**Hint:** Start with making change for one cent and systematically work its way up to the amount of change we require. This guarantees us that at each step of the algorithm we already know the minimum number of coins needed to make change for any smaller amount. Keep a memoized table of results for each step working up to the amount of change you need to generate."
   ]
  },
  {
   "cell_type": "code",
   "execution_count": 10,
   "metadata": {},
   "outputs": [],
   "source": [
    "# ref: https://stackoverflow.com/questions/12520263/recursive-change-making-algorithm\n",
    "\n",
    "def make_change_dynamic(amt, change):\n",
    "    m, n = len(change)+1, amt+1\n",
    "    table = [[0] * n for x in range(m)]\n",
    "    for j in range(1, n):\n",
    "        table[0][j] = float('inf')\n",
    "    for i in range(1, m):\n",
    "        for j in range(1, n):\n",
    "            amt = table[i][j - change[i-1]] if j - change[i-1] >= 0 else float('inf')\n",
    "            table[i][j] = min(table[i-1][j], 1 + amt)\n",
    "    return table[m-1][n-1]"
   ]
  },
  {
   "cell_type": "code",
   "execution_count": 11,
   "metadata": {},
   "outputs": [
    {
     "data": {
      "text/plain": [
       "6"
      ]
     },
     "execution_count": 11,
     "metadata": {},
     "output_type": "execute_result"
    }
   ],
   "source": [
    "make_change_dynamic(63, [25, 10, 5, 1])"
   ]
  },
  {
   "cell_type": "code",
   "execution_count": null,
   "metadata": {},
   "outputs": [],
   "source": []
  }
 ],
 "metadata": {
  "kernelspec": {
   "display_name": "Python 3",
   "language": "python",
   "name": "python3"
  },
  "language_info": {
   "codemirror_mode": {
    "name": "ipython",
    "version": 3
   },
   "file_extension": ".py",
   "mimetype": "text/x-python",
   "name": "python",
   "nbconvert_exporter": "python",
   "pygments_lexer": "ipython3",
   "version": "3.8.3"
  }
 },
 "nbformat": 4,
 "nbformat_minor": 4
}
